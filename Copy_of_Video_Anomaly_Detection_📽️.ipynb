{
  "metadata": {
    "kernelspec": {
      "language": "python",
      "display_name": "Python 3",
      "name": "python3"
    },
    "language_info": {
      "pygments_lexer": "ipython3",
      "nbconvert_exporter": "python",
      "version": "3.6.4",
      "file_extension": ".py",
      "codemirror_mode": {
        "name": "ipython",
        "version": 3
      },
      "name": "python",
      "mimetype": "text/x-python"
    },
    "colab": {
      "provenance": [],
      "include_colab_link": true
    }
  },
  "nbformat_minor": 0,
  "nbformat": 4,
  "cells": [
    {
      "cell_type": "markdown",
      "metadata": {
        "id": "view-in-github",
        "colab_type": "text"
      },
      "source": [
        "<a href=\"https://colab.research.google.com/github/ThokozileKhosa/COS801_Project/blob/main/Copy_of_Video_Anomaly_Detection_%F0%9F%93%BD%EF%B8%8F.ipynb\" target=\"_parent\"><img src=\"https://colab.research.google.com/assets/colab-badge.svg\" alt=\"Open In Colab\"/></a>"
      ]
    },
    {
      "source": [
        "# ACCESS KAGGLE DATA\n",
        "import kagglehub\n",
        "odins0n_ucf_crime_dataset_path = kagglehub.dataset_download('odins0n/ucf-crime-dataset')\n",
        "# https://www.kaggle.com/api/v1/datasets/download/odins0n/ucf-crime-dataset?dataset_version_number=1\n",
        "\n",
        "print('Data source import complete')"
      ],
      "metadata": {
        "id": "EDeDcmqgoXuz",
        "outputId": "d180e798-1731-4c49-c9d9-0b62644866c1",
        "colab": {
          "base_uri": "https://localhost:8080/"
        }
      },
      "cell_type": "code",
      "outputs": [
        {
          "output_type": "stream",
          "name": "stdout",
          "text": [
            "Warning: Looks like you're using an outdated `kagglehub` version, please consider updating (latest version: 0.3.3)\n",
            "Downloading from https://www.kaggle.com/api/v1/datasets/download/odins0n/ucf-crime-dataset?dataset_version_number=1...\n"
          ]
        },
        {
          "output_type": "stream",
          "name": "stderr",
          "text": [
            "100%|██████████| 11.0G/11.0G [02:24<00:00, 81.7MB/s]"
          ]
        },
        {
          "output_type": "stream",
          "name": "stdout",
          "text": [
            "Extracting files...\n"
          ]
        },
        {
          "output_type": "stream",
          "name": "stderr",
          "text": [
            "\n"
          ]
        },
        {
          "output_type": "stream",
          "name": "stdout",
          "text": [
            "Data source import complete\n"
          ]
        }
      ],
      "execution_count": null
    },
    {
      "cell_type": "markdown",
      "source": [
        "**Created by Sanskar Hasija**\n",
        "\n",
        "**Video Anomaly Detection 📽️**\n",
        "\n",
        "**12 NOVEMBER 2021**\n"
      ],
      "metadata": {
        "id": "QDdweS-UoXu0"
      }
    },
    {
      "cell_type": "markdown",
      "source": [
        "# <center> Video Anomaly Detection 📽️</center>\n",
        "## <center>If you find this notebook useful, support with an upvote👍</center>"
      ],
      "metadata": {
        "id": "qWgnKzYEoXu1"
      }
    },
    {
      "cell_type": "markdown",
      "source": [
        "## [1. Imports](#im) ##\n",
        "## [2. HyperParameters](#hp) ##\n",
        "## [3. Data Loading and Preprocessing](#data) ##\n",
        "## [4. DenseNet121 Feature Extractor](#model)  ##\n",
        "## [5. Training](#train) ##\n",
        "## [6. Mutliclass AUC Curve](#auc) ##"
      ],
      "metadata": {
        "id": "Q7LAegE5oXu1"
      }
    },
    {
      "cell_type": "markdown",
      "source": [
        "<a id=\"im\"></a>\n",
        "# <center>IMPORTING LIBRARIES</center>"
      ],
      "metadata": {
        "id": "XFviNeGvoXu1"
      }
    },
    {
      "cell_type": "code",
      "source": [
        "import pandas as pd\n",
        "import numpy as np\n",
        "import matplotlib.pyplot as plt\n",
        "import seaborn as sns\n",
        "import plotly.express as px\n",
        "import os\n",
        "\n",
        "import tensorflow as tf\n",
        "from tensorflow.keras.preprocessing.image import ImageDataGenerator\n",
        "from sklearn.preprocessing import LabelBinarizer\n",
        "from sklearn.metrics import roc_curve, auc, roc_auc_score\n",
        "\n",
        "\n",
        "from IPython.display import clear_output\n",
        "import warnings\n",
        "warnings.filterwarnings('ignore')"
      ],
      "metadata": {
        "execution": {
          "iopub.status.busy": "2021-12-26T17:06:59.077433Z",
          "iopub.execute_input": "2021-12-26T17:06:59.078158Z",
          "iopub.status.idle": "2021-12-26T17:07:07.042212Z",
          "shell.execute_reply.started": "2021-12-26T17:06:59.078058Z",
          "shell.execute_reply": "2021-12-26T17:07:07.041438Z"
        },
        "trusted": true,
        "id": "OR_FeeCLoXu1"
      },
      "execution_count": null,
      "outputs": []
    },
    {
      "cell_type": "markdown",
      "source": [
        "<a id=\"hp\"></a>\n",
        "# <center>HYPERPARAMETRERS AND DIRECTORIES</center>"
      ],
      "metadata": {
        "id": "QGZOB8auoXu1"
      }
    },
    {
      "cell_type": "code",
      "source": [
        "train_dir = \"../input/ucf-crime-dataset/Train\"\n",
        "test_dir = \"../input/ucf-crime-dataset/Test\"\n",
        "\n",
        "SEED = 12\n",
        "IMG_HEIGHT = 64\n",
        "IMG_WIDTH = 64\n",
        "BATCH_SIZE = 64\n",
        "EPOCHS = 1\n",
        "LR =  0.00003\n",
        "NUM_CLASSES = 14\n",
        "CLASS_LABELS = ['Abuse','Arrest','Arson','Assault','Burglary','Explosion','Fighting',\"Normal\",'RoadAccidents','Robbery','Shooting','Shoplifting','Stealing','Vandalism']"
      ],
      "metadata": {
        "execution": {
          "iopub.status.busy": "2021-12-26T17:07:07.044004Z",
          "iopub.execute_input": "2021-12-26T17:07:07.044425Z",
          "iopub.status.idle": "2021-12-26T17:07:07.050736Z",
          "shell.execute_reply.started": "2021-12-26T17:07:07.044385Z",
          "shell.execute_reply": "2021-12-26T17:07:07.049422Z"
        },
        "trusted": true,
        "id": "YKnHKGMqoXu2"
      },
      "execution_count": null,
      "outputs": []
    },
    {
      "cell_type": "markdown",
      "source": [
        "<a id=\"data\"></a>\n",
        "# <center> DATA LOADING AND PRE-PROCESSING</center>"
      ],
      "metadata": {
        "id": "jGxlecXSoXu2"
      }
    },
    {
      "cell_type": "markdown",
      "source": [
        "*Creating* two different generator for train and test data"
      ],
      "metadata": {
        "id": "ywFI9iByoXu2"
      }
    },
    {
      "cell_type": "code",
      "source": [
        "preprocess_fun = tf.keras.applications.densenet.preprocess_input\n",
        "\n",
        "train_datagen = ImageDataGenerator(horizontal_flip=True,\n",
        "                                   width_shift_range=0.1,\n",
        "                                   height_shift_range=0.05,\n",
        "                                   rescale = 1./255,\n",
        "                                   preprocessing_function=preprocess_fun\n",
        "                                  )\n",
        "test_datagen = ImageDataGenerator(rescale = 1./255,\n",
        "                                  preprocessing_function=preprocess_fun\n",
        "                                 )"
      ],
      "metadata": {
        "execution": {
          "iopub.status.busy": "2021-12-26T17:07:07.051995Z",
          "iopub.execute_input": "2021-12-26T17:07:07.052246Z",
          "iopub.status.idle": "2021-12-26T17:07:07.069401Z",
          "shell.execute_reply.started": "2021-12-26T17:07:07.052212Z",
          "shell.execute_reply": "2021-12-26T17:07:07.068564Z"
        },
        "trusted": true,
        "id": "Mz5GDrVKoXu2"
      },
      "execution_count": null,
      "outputs": []
    },
    {
      "cell_type": "code",
      "source": [
        "train_generator = train_datagen.flow_from_directory(directory = train_dir,\n",
        "                                                    target_size = (IMG_HEIGHT ,IMG_WIDTH),\n",
        "                                                    batch_size = BATCH_SIZE,\n",
        "                                                    shuffle  = True ,\n",
        "                                                    color_mode = \"rgb\",\n",
        "                                                    class_mode = \"categorical\",\n",
        "                                                    seed = SEED\n",
        "                                                   )\n",
        "test_generator = test_datagen.flow_from_directory(directory = test_dir,\n",
        "                                                   target_size = (IMG_HEIGHT ,IMG_WIDTH),\n",
        "                                                    batch_size = BATCH_SIZE,\n",
        "                                                    shuffle  = False ,\n",
        "                                                    color_mode = \"rgb\",\n",
        "                                                    class_mode = \"categorical\",\n",
        "                                                    seed = SEED\n",
        "                                                  )"
      ],
      "metadata": {
        "_kg_hide-input": true,
        "execution": {
          "iopub.status.busy": "2021-12-26T17:07:07.073035Z",
          "iopub.execute_input": "2021-12-26T17:07:07.073587Z",
          "iopub.status.idle": "2021-12-26T17:28:51.424228Z",
          "shell.execute_reply.started": "2021-12-26T17:07:07.073547Z",
          "shell.execute_reply": "2021-12-26T17:28:51.423412Z"
        },
        "trusted": true,
        "id": "q9tDGwlUoXu3"
      },
      "execution_count": null,
      "outputs": []
    },
    {
      "cell_type": "markdown",
      "source": [
        "## Data distribution (count) among all the classes"
      ],
      "metadata": {
        "id": "pW7b6n8koXu3"
      }
    },
    {
      "cell_type": "markdown",
      "source": [
        "### Train data Distribution"
      ],
      "metadata": {
        "id": "h0Tip-gKoXu3"
      }
    },
    {
      "cell_type": "code",
      "source": [
        "fig = px.bar(x = CLASS_LABELS,\n",
        "             y = [list(train_generator.classes).count(i) for i in np.unique(train_generator.classes)] ,\n",
        "             color = np.unique(train_generator.classes) ,\n",
        "             color_continuous_scale=\"Emrld\")\n",
        "fig.update_xaxes(title=\"Classes\")\n",
        "fig.update_yaxes(title = \"Number of Images\")\n",
        "fig.update_layout(showlegend = True,\n",
        "    title = {\n",
        "        'text': 'Train Data Distribution ',\n",
        "        'y':0.95,\n",
        "        'x':0.5,\n",
        "        'xanchor': 'center',\n",
        "        'yanchor': 'top'})\n",
        "fig.show()"
      ],
      "metadata": {
        "_kg_hide-input": true,
        "execution": {
          "iopub.status.busy": "2021-12-26T17:28:51.426685Z",
          "iopub.execute_input": "2021-12-26T17:28:51.427303Z",
          "iopub.status.idle": "2021-12-26T17:28:56.556688Z",
          "shell.execute_reply.started": "2021-12-26T17:28:51.427207Z",
          "shell.execute_reply": "2021-12-26T17:28:56.55603Z"
        },
        "trusted": true,
        "id": "d-ATBggWoXu3"
      },
      "execution_count": null,
      "outputs": []
    },
    {
      "cell_type": "markdown",
      "source": [
        "### Test Data Distribution"
      ],
      "metadata": {
        "id": "rnshDyYfoXu4"
      }
    },
    {
      "cell_type": "code",
      "source": [
        "fig = px.bar(x = CLASS_LABELS,\n",
        "             y = [list(test_generator.classes).count(i) for i in np.unique(test_generator.classes)] ,\n",
        "             color = np.unique(train_generator.classes) ,\n",
        "             color_continuous_scale=\"Emrld\")\n",
        "fig.update_xaxes(title=\"Classes\")\n",
        "fig.update_yaxes(title = \"Number of Images\")\n",
        "fig.update_layout(showlegend = True,\n",
        "    title = {\n",
        "        'text': 'Test Data Distribution ',\n",
        "        'y':0.95,\n",
        "        'x':0.5,\n",
        "        'xanchor': 'center',\n",
        "        'yanchor': 'top'})\n",
        "fig.show()"
      ],
      "metadata": {
        "_kg_hide-input": true,
        "execution": {
          "iopub.status.busy": "2021-12-26T17:28:56.557803Z",
          "iopub.execute_input": "2021-12-26T17:28:56.558498Z",
          "iopub.status.idle": "2021-12-26T17:28:56.98408Z",
          "shell.execute_reply.started": "2021-12-26T17:28:56.558462Z",
          "shell.execute_reply": "2021-12-26T17:28:56.983432Z"
        },
        "trusted": true,
        "id": "mdsTmJJ-oXu4"
      },
      "execution_count": null,
      "outputs": []
    },
    {
      "cell_type": "markdown",
      "source": [
        "<a id=\"model\"></a>\n",
        "# <center> DenseNet121 Transfer Learning  </center>"
      ],
      "metadata": {
        "id": "Ekibrg4joXu4"
      }
    },
    {
      "cell_type": "code",
      "source": [
        "def feature_extractor(inputs):\n",
        "    feature_extractor = tf.keras.applications.DenseNet121(input_shape=(IMG_HEIGHT,IMG_WIDTH, 3),\n",
        "                                               include_top=False,\n",
        "                                               weights=\"imagenet\")(inputs)\n",
        "\n",
        "    return feature_extractor\n",
        "\n",
        "def classifier(inputs):\n",
        "    x = tf.keras.layers.GlobalAveragePooling2D()(inputs)\n",
        "    x = tf.keras.layers.Dense(256, activation=\"relu\")(x)\n",
        "    x = tf.keras.layers.Dropout(0.3)(x)\n",
        "    x = tf.keras.layers.Dense(1024, activation=\"relu\")(x)\n",
        "    x = tf.keras.layers.Dropout(0.5)(x)\n",
        "    x = tf.keras.layers.Dense(512, activation=\"relu\")(x)\n",
        "    x = tf.keras.layers.Dropout(0.4) (x)\n",
        "    x = tf.keras.layers.Dense(NUM_CLASSES, activation=\"softmax\", name=\"classification\")(x)\n",
        "\n",
        "    return x\n",
        "\n",
        "def final_model(inputs):\n",
        "    densenet_feature_extractor = feature_extractor(inputs)\n",
        "    classification_output = classifier(densenet_feature_extractor)\n",
        "\n",
        "    return classification_output\n",
        "\n",
        "def define_compile_model():\n",
        "\n",
        "    inputs = tf.keras.layers.Input(shape=(IMG_HEIGHT ,IMG_WIDTH,3))\n",
        "    classification_output = final_model(inputs)\n",
        "    model = tf.keras.Model(inputs=inputs, outputs = classification_output)\n",
        "\n",
        "    model.compile(optimizer=tf.keras.optimizers.SGD(LR),\n",
        "                loss='categorical_crossentropy',\n",
        "                metrics = [tf.keras.metrics.AUC()])\n",
        "\n",
        "    return model\n",
        "\n",
        "model = define_compile_model()\n",
        "clear_output()\n",
        "model.summary()"
      ],
      "metadata": {
        "execution": {
          "iopub.status.busy": "2021-12-26T17:28:56.985151Z",
          "iopub.execute_input": "2021-12-26T17:28:56.985553Z",
          "iopub.status.idle": "2021-12-26T17:29:03.129817Z",
          "shell.execute_reply.started": "2021-12-26T17:28:56.985515Z",
          "shell.execute_reply": "2021-12-26T17:29:03.129137Z"
        },
        "trusted": true,
        "id": "lSkCQ_81oXu4"
      },
      "execution_count": null,
      "outputs": []
    },
    {
      "cell_type": "markdown",
      "source": [
        "<a id=\"train\"></a>\n",
        "# <center> Training </center>"
      ],
      "metadata": {
        "id": "PHBNgrsooXu4"
      }
    },
    {
      "cell_type": "code",
      "source": [
        "history = model.fit(x = train_generator,validation_data=test_generator,epochs = EPOCHS)"
      ],
      "metadata": {
        "execution": {
          "iopub.status.busy": "2021-12-26T17:38:38.642433Z",
          "iopub.execute_input": "2021-12-26T17:38:38.642674Z",
          "iopub.status.idle": "2021-12-26T17:38:54.429448Z",
          "shell.execute_reply.started": "2021-12-26T17:38:38.642639Z",
          "shell.execute_reply": "2021-12-26T17:38:54.428756Z"
        },
        "trusted": true,
        "id": "UuuAxGjUoXu4"
      },
      "execution_count": null,
      "outputs": []
    },
    {
      "cell_type": "markdown",
      "source": [
        "<a id=\"auc\"></a>\n",
        "# <center> Multiclass AUC Curve </center>"
      ],
      "metadata": {
        "id": "gVo4Re2hoXu4"
      }
    },
    {
      "cell_type": "code",
      "source": [
        "preds = model.predict(test_generator)\n",
        "y_test = test_generator.classes\n",
        "fig, c_ax = plt.subplots(1,1, figsize = (15,8))\n",
        "\n",
        "def multiclass_roc_auc_score(y_test, y_pred, average=\"macro\"):\n",
        "    lb = LabelBinarizer()\n",
        "    lb.fit(y_test)\n",
        "    y_test = lb.transform(y_test)\n",
        "    for (idx, c_label) in enumerate(CLASS_LABELS):\n",
        "        fpr, tpr, thresholds = roc_curve(y_test[:,idx].astype(int), y_pred[:,idx])\n",
        "        c_ax.plot(fpr, tpr,lw=2, label = '%s (AUC:%0.2f)'  % (c_label, auc(fpr, tpr)))\n",
        "    c_ax.plot(fpr, fpr, 'black',linestyle='dashed', lw=4, label = 'Random Guessing')\n",
        "    return roc_auc_score(y_test, y_pred, average=average)\n",
        "\n",
        "print('ROC AUC score:', multiclass_roc_auc_score(y_test , preds  , average = \"micro\"))\n",
        "plt.xlabel('FALSE POSITIVE RATE', fontsize=18)\n",
        "plt.ylabel('TRUE POSITIVE RATE', fontsize=16)\n",
        "plt.legend(fontsize = 11.5)\n",
        "plt.show()"
      ],
      "metadata": {
        "execution": {
          "iopub.status.busy": "2021-12-26T18:10:01.363963Z",
          "iopub.execute_input": "2021-12-26T18:10:01.364571Z",
          "iopub.status.idle": "2021-12-26T18:10:02.444867Z",
          "shell.execute_reply.started": "2021-12-26T18:10:01.364533Z",
          "shell.execute_reply": "2021-12-26T18:10:02.444214Z"
        },
        "trusted": true,
        "id": "-8spzoT3oXu4"
      },
      "execution_count": null,
      "outputs": []
    }
  ]
}